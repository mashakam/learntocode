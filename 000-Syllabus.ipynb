{
 "cells": [
  {
   "cell_type": "markdown",
   "metadata": {},
   "source": [
    "# Syllabus\n",
    "### Learn to Code *Workshop Series*"
   ]
  },
  {
   "cell_type": "markdown",
   "metadata": {},
   "source": [
    "## Goals\n",
    "\n",
    "We want participants to be able to:\n",
    "\n",
    " * Learn the basics of programming\n",
    " * Learn to import, manipulate, and plot data\n",
    " \n",
    "#### Audience\n",
    "\n",
    "This series is aimed primarily at women with little to no coding experience who wish to be able to work with scientific data or become a data scientist, although it is open to all Yale affiliates."
   ]
  },
  {
   "cell_type": "markdown",
   "metadata": {},
   "source": [
    "### Tools\n",
    "\n",
    "We will use the [Python 3](http://python.org) programming language, and the [SciPy stack](http://www.scipy.org/about.html). Participants will be expected to bring a computer of their own to work with.\n",
    "\n",
    "These tools can most easily be installed through [Anaconda](http://continuum.io/downloads#34); be sure to select \"I want Python 3.4\"!\n",
    "\n",
    "The first workshop will focus primarily on installing and introducing these tools."
   ]
  },
  {
   "cell_type": "markdown",
   "metadata": {},
   "source": [
    "## Schedule\n",
    "\n",
    "The series will run from Oct. 5 to Nov. 9, with a possible extension depending on interest, demand, and progress."
   ]
  },
  {
   "cell_type": "markdown",
   "metadata": {},
   "source": [
    "### Workshops\n",
    "\n",
    "The main workshop series will be a weekly combination of mini-lectures and interactive activities, where participants will practice coding themselves. Discussing, working together, and asking questions will be strongly encouraged. At the end of the workshop, students will also be given a set of practice problems to keep working on, eiter on their own time, with each other, or at the Open Sessions.\n",
    "\n",
    "Workshops will be held Mondays.\n",
    "\n",
    "#### Sessions (*subject to revision*)\n",
    "\n",
    " * *Oct. 05:* Installation and Introduction: What is Python? Why are we using it? How do I use it?\n",
    " * *Oct. 12:* Expressions, lists, and basic plotting\n",
    " * *Oct. 19:* For loops, functions, and basic data analysis\n",
    " * *Oct. 26:* Objects, arrays, and advanced plotting features\n",
    " * *Nov. 02:* Modules, good coding practices, and a more detailed look at the scipy stack\n",
    " * *Nov. 09:* Writing your own module: extending the scipy stack"
   ]
  },
  {
   "cell_type": "markdown",
   "metadata": {},
   "source": [
    "### Open Sessions\n",
    "\n",
    "On Thursdays an Open Session will be offered. This will be a chance for people to work together on coding and/or plotting challenges, either related to the Workshops or not. Instructors and/or helpers will be present to facilitate group work and answer questions."
   ]
  }
 ],
 "metadata": {
  "kernelspec": {
   "display_name": "Python 3",
   "language": "python",
   "name": "python3"
  },
  "language_info": {
   "codemirror_mode": {
    "name": "ipython",
    "version": 3
   },
   "file_extension": ".py",
   "mimetype": "text/x-python",
   "name": "python",
   "nbconvert_exporter": "python",
   "pygments_lexer": "ipython3",
   "version": "3.4.3"
  }
 },
 "nbformat": 4,
 "nbformat_minor": 0
}
